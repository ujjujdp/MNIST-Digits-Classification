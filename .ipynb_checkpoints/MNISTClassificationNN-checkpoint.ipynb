{
 "cells": [
  {
   "cell_type": "code",
   "execution_count": 1,
   "id": "563d3197",
   "metadata": {},
   "outputs": [],
   "source": [
    "#importing necessary packaages\n",
    "import numpy as np\n",
    "import PIL\n",
    "from PIL import Image\n",
    "import os\n",
    "import ntpath\n",
    "import math\n",
    "import matplotlib.pyplot as plt\n",
    "from sklearn.decomposition import PCA\n",
    "import random\n",
    "from scipy.special import softmax\n",
    "\n",
    "from torchvision import datasets"
   ]
  },
  {
   "cell_type": "markdown",
   "id": "55a91d7d",
   "metadata": {},
   "source": [
    "# Train Data"
   ]
  },
  {
   "cell_type": "code",
   "execution_count": 2,
   "id": "62617608",
   "metadata": {},
   "outputs": [
    {
     "ename": "NameError",
     "evalue": "name 'transforms' is not defined",
     "output_type": "error",
     "traceback": [
      "\u001b[1;31m---------------------------------------------------------------------------\u001b[0m",
      "\u001b[1;31mNameError\u001b[0m                                 Traceback (most recent call last)",
      "Input \u001b[1;32mIn [2]\u001b[0m, in \u001b[0;36m<module>\u001b[1;34m\u001b[0m\n\u001b[0;32m      1\u001b[0m \u001b[38;5;66;03m#Importing data from pytorch\u001b[39;00m\n\u001b[1;32m----> 2\u001b[0m rawData \u001b[38;5;241m=\u001b[39m datasets\u001b[38;5;241m.\u001b[39mMNIST(\u001b[38;5;124m'\u001b[39m\u001b[38;5;124mdata\u001b[39m\u001b[38;5;124m'\u001b[39m, train \u001b[38;5;241m=\u001b[39m \u001b[38;5;28;01mTrue\u001b[39;00m, download \u001b[38;5;241m=\u001b[39m \u001b[38;5;28;01mTrue\u001b[39;00m, transform \u001b[38;5;241m=\u001b[39m \u001b[43mtransforms\u001b[49m\u001b[38;5;241m.\u001b[39mToTensor())\n\u001b[0;32m      3\u001b[0m trainData, validationData \u001b[38;5;241m=\u001b[39m random_split(rawData, [\u001b[38;5;241m50000\u001b[39m, \u001b[38;5;241m10000\u001b[39m])\n\u001b[0;32m      4\u001b[0m trainData \u001b[38;5;241m=\u001b[39m DataLoader(trainData, batch_size \u001b[38;5;241m=\u001b[39m \u001b[38;5;241m32\u001b[39m)\n",
      "\u001b[1;31mNameError\u001b[0m: name 'transforms' is not defined"
     ]
    }
   ],
   "source": [
    "#Importing data from pytorch\n",
    "rawData = datasets.MNIST('data', train = True, download = True, transform = transforms.ToTensor())\n",
    "trainData, validationData = random_split(rawData, [50000, 10000])\n",
    "trainData = DataLoader(trainData, batch_size = 32)\n",
    "validData = DataLoader(validationData, batch_size = 32)\n",
    "\n",
    "testData = datasets.MNIST('data', train = False, download = True, transform = transforms.ToTensor())\n",
    "testData = DataLoader(testData, batch_size = 32)"
   ]
  },
  {
   "cell_type": "code",
   "execution_count": 258,
   "id": "7383357c",
   "metadata": {},
   "outputs": [
    {
     "name": "stdout",
     "output_type": "stream",
     "text": [
      "(10000, 20)\n",
      "(10000, 9)\n",
      "(10000, 11)\n"
     ]
    }
   ],
   "source": [
    "#Placing the input images into numpy array\n",
    "allData = []       \n",
    "happyData = []\n",
    "sadData = []\n",
    "N = 0\n",
    "nHappy = 0\n",
    "nSad = 0\n",
    "directory = r\"C:\\Users\\ujjaw\\Desktop\\MLSP_Assignments\\Ass4\\Q4\\Data\\emotion_classification\\train\"\n",
    "for filename in os.scandir(directory):\n",
    "    if filename.is_file():\n",
    "        filename2 = directory + \"\\\\\" + ntpath.basename(filename)\n",
    "        img = Image.open(filename2).resize((100,100))\n",
    "        npImg = np.array(img)\n",
    "        flatArray = np.transpose(np.ravel(npImg))\n",
    "        x = ntpath.basename(filename).split(\".\")\n",
    "        if x[1] == \"happy\":\n",
    "            happyData.append(list(flatArray))\n",
    "            nHappy += 1\n",
    "        else:\n",
    "            sadData.append(list(flatArray))\n",
    "            nSad += 1\n",
    "N = nHappy + nSad\n",
    "happyData = np.transpose(np.array(happyData))\n",
    "sadData = np.transpose(np.array(sadData))\n",
    "allData = np.concatenate((happyData,sadData),axis = 1)\n",
    "\n",
    "print(allData.shape)\n",
    "print(happyData.shape)\n",
    "print(sadData.shape)"
   ]
  },
  {
   "cell_type": "markdown",
   "id": "8172fc9e",
   "metadata": {},
   "source": [
    "# Test Data"
   ]
  },
  {
   "cell_type": "code",
   "execution_count": 259,
   "id": "f2d94055",
   "metadata": {},
   "outputs": [
    {
     "name": "stdout",
     "output_type": "stream",
     "text": [
      "(10000, 10)\n",
      "(10000, 6)\n",
      "(10000, 4)\n"
     ]
    }
   ],
   "source": [
    "#Placing the test images into numpy array\n",
    "happyDataTest = []\n",
    "sadDataTest = []\n",
    "N_test = 0\n",
    "nHappyTest = 0\n",
    "nSadTest = 0\n",
    "directory = r\"C:\\Users\\ujjaw\\Desktop\\MLSP_Assignments\\Ass4\\Q4\\Data\\emotion_classification\\test\"\n",
    "for filename in os.scandir(directory):\n",
    "    if filename.is_file():\n",
    "        filename2 = directory + \"\\\\\" + ntpath.basename(filename)\n",
    "        img = Image.open(filename2).resize((100,100))\n",
    "        np_img = np.array(img)/1\n",
    "        flat_array = np.transpose(np.ravel(np_img))\n",
    "        x = ntpath.basename(filename).split(\".\")\n",
    "        if x[1] == \"happy\":\n",
    "            happyDataTest.append(list(flat_array))\n",
    "            nHappyTest += 1\n",
    "        else:\n",
    "            sadDataTest.append(list(flat_array))\n",
    "            nSadTest += 1 \n",
    "N_test = nHappyTest + nSadTest\n",
    "happyDataTest = np.transpose(np.array(happyDataTest))\n",
    "sadDataTest = np.transpose(np.array(sadDataTest))\n",
    "allDataTest = np.concatenate((happyDataTest,sadDataTest),axis = 1)\n",
    "\n",
    "print(allDataTest.shape)\n",
    "print(happyDataTest.shape)\n",
    "print(sadDataTest.shape)"
   ]
  },
  {
   "cell_type": "markdown",
   "id": "8630a60c",
   "metadata": {},
   "source": [
    "# PCA from 1000 to k = 12"
   ]
  },
  {
   "cell_type": "code",
   "execution_count": 260,
   "id": "f7012828",
   "metadata": {},
   "outputs": [
    {
     "name": "stdout",
     "output_type": "stream",
     "text": [
      "(12, 20)\n",
      "(12, 10)\n"
     ]
    }
   ],
   "source": [
    "K = 12\n",
    "completeData = np.concatenate((allData,allDataTest),axis = 1)\n",
    "temp = PCA(n_components = K)                  \n",
    "reducedCompleteData = temp.fit_transform(completeData.T) \n",
    "\n",
    "reducedAllData = reducedCompleteData[:N,].T\n",
    "reducedAllDataTest = reducedCompleteData[N:,].T\n",
    "\n",
    "print(reducedAllData.shape)\n",
    "print(reducedAllDataTest.shape)"
   ]
  },
  {
   "cell_type": "markdown",
   "id": "b516509f",
   "metadata": {},
   "source": [
    "# Loading Labels"
   ]
  },
  {
   "cell_type": "code",
   "execution_count": 261,
   "id": "2908dd4e",
   "metadata": {},
   "outputs": [],
   "source": [
    "y_happy = [0 for i in range(nHappy)]\n",
    "y_happy_ = [1 for i in range(nHappy)]\n",
    "y_sad = [1 for i in range(nSad)]\n",
    "y_sad_= [0 for i in range(nSad)]\n",
    "y = y_happy + y_sad\n",
    "y_ = y_happy_ + y_sad_\n",
    "Y = []\n",
    "Y.append(y)\n",
    "Y.append(y_)\n",
    "Y = np.array(Y)"
   ]
  },
  {
   "cell_type": "code",
   "execution_count": 262,
   "id": "2311f8e8",
   "metadata": {},
   "outputs": [],
   "source": [
    "y_happyTest = [0 for i in range(nHappyTest)]\n",
    "y_sadTest = [1 for i in range(nSadTest)]\n",
    "y_test = y_happyTest + y_sadTest"
   ]
  },
  {
   "cell_type": "markdown",
   "id": "0d7d0c41",
   "metadata": {},
   "source": [
    "# 1 hidden layer deep neural network"
   ]
  },
  {
   "cell_type": "code",
   "execution_count": 272,
   "id": "e0e0f9a8",
   "metadata": {},
   "outputs": [],
   "source": [
    "class DNN_1Layer:\n",
    "    def __init__(self,n0,n1,n2,lr):\n",
    "        self.W1 = np.random.rand(n1,n0)\n",
    "        self.b1 = np.random.rand(n1,1)\n",
    "        \n",
    "        self.W2 = np.random.rand(n2,n1)\n",
    "        self.b2 = np.random.rand(n2,1)\n",
    "        \n",
    "        self.z1 = None\n",
    "        self.z2 = None\n",
    "        self.a1 = None\n",
    "        self.a2 = None\n",
    "        self.Y_Pred = None\n",
    "        \n",
    "        self.lossList = []\n",
    "        \n",
    "        self.lr = lr\n",
    "    \n",
    "    def ReLU(self, zi):\n",
    "        for i in range(zi.shape[0]):\n",
    "            for j in range(zi.shape[1]):\n",
    "                if (zi[i][j] < 0):\n",
    "                    zi[i][j] = 0\n",
    "        return zi\n",
    "    \n",
    "    def dReLU(self, zi):\n",
    "        for i in range(zi.shape[0]):\n",
    "            for j in range(zi.shape[1]):\n",
    "                if (zi[i][j] < 0):\n",
    "                    zi[i][j] = 0\n",
    "                else:\n",
    "                    zi[i][j] = 1\n",
    "        return zi\n",
    "    \n",
    "    def calcLoss_CE(self):\n",
    "        CE = -np.sum(np.multiply(Y, np.log(self.a2 + 1e-1))) / N\n",
    "        self.lossList.append(CE)\n",
    "        \n",
    "    def forwardPropagation(self):\n",
    "        self.z1 = np.matmul(self.W1, reducedAllData) + self.b1\n",
    "        self.a1 = self.ReLU(self.z1)\n",
    "        self.z2 = np.matmul(self.W2, self.a1) + self.b2\n",
    "        self.a2 = softmax(self.z2,axis = 0)\n",
    "        self.Y_Pred = self.a2\n",
    "        \n",
    "    def backwardPropagation(self):\n",
    "        dZ2 = (self.a2 - Y)\n",
    "        dW2 = np.matmul(dZ2, self.a1.T)\n",
    "        db2 = np.sum(dZ2, axis = 1)\n",
    "        db2 = db2.reshape(db2.shape[0],1)\n",
    "        \n",
    "        dZ1 = np.multiply(np.matmul(self.W2.T, dZ2), self.dReLU(self.a1))\n",
    "        dW1 = np.matmul(dZ1, reducedAllData.T)\n",
    "        db1 = np.sum(dZ1, axis = 1)\n",
    "        db1 = db1.reshape(db1.shape[0],1)\n",
    "        \n",
    "        self.W1 -= (self.lr*dW1)\n",
    "        self.b1 -= (self.lr*db1)\n",
    "        self.W2 -= (self.lr*dW2)\n",
    "        self.b2 -= (self.lr*db2)\n",
    "        \n",
    "    def fit(self,epochs):\n",
    "        for i in range(epochs):\n",
    "            self.forwardPropagation()\n",
    "            self.calcLoss_CE()\n",
    "            self.backwardPropagation()\n",
    "\n",
    "    def predict(self):\n",
    "        temp_z1 = np.matmul(self.W1, reducedAllDataTest) + self.b1\n",
    "        temp_a1 = self.ReLU(temp_z1)\n",
    "        temp_z2 = np.matmul(self.W2, temp_a1) + self.b2\n",
    "        temp_a2 = softmax(temp_z2,axis = 0)\n",
    "        temp_Y_Pred = temp_a2\n",
    "        \n",
    "        predictedList = []\n",
    "        accuracy = 0\n",
    "        for i in range(N_test):\n",
    "            if (temp_Y_Pred[0][i] < temp_Y_Pred[1][i]):\n",
    "                predictedList.append(1)\n",
    "            else:\n",
    "                predictedList.append(0)\n",
    "            \n",
    "            if (predictedList[i] == y_test[i]):\n",
    "                accuracy += 1\n",
    "        \n",
    "        accuracy /= (N_test/100)        \n",
    "        \n",
    "        print('\\n'+'\\033[1m' + \"Review Classification Accuracy on Test Data = \", \"{:.2f}\".format(accuracy), \" %\" + '\\033[0m' )\n",
    "        \n",
    "    def plotLossCurve(self,epochs):\n",
    "        x = [(i+1) for i in range(epochs)]\n",
    "\n",
    "        plt.xlabel('#epochs')\n",
    "        plt.ylabel('Loss')\n",
    "        plt.title('Loss Curve')\n",
    "        self.lossList = np.array(self.lossList)\n",
    "        plt.plot(x, self.lossList)\n",
    "        plt.show()"
   ]
  },
  {
   "cell_type": "markdown",
   "id": "42e73392",
   "metadata": {},
   "source": [
    "# Hidden Neurons = 10"
   ]
  },
  {
   "cell_type": "code",
   "execution_count": 271,
   "id": "9ce69b7d",
   "metadata": {},
   "outputs": [
    {
     "data": {
      "image/png": "[encoded data removed]",
      "text/plain": [
       "<Figure size 432x288 with 1 Axes>"
      ]
     },
     "metadata": {
      "needs_background": "light"
     },
     "output_type": "display_data"
    },
    {
     "name": "stdout",
     "output_type": "stream",
     "text": [
      "\n",
      "\u001b[1mReview Classification Accuracy on Test Data =  80.00  %\u001b[0m\n"
     ]
    }
   ],
   "source": [
    "epochs = 20\n",
    "\n",
    "objA = DNN_1Layer(K, 10, 2, 0.015)\n",
    "objA.fit(epochs)\n",
    "objA.plotLossCurve(epochs)\n",
    "objA.predict()"
   ]
  },
  {
   "cell_type": "markdown",
   "id": "17da7e32",
   "metadata": {},
   "source": [
    "# Hidden Neurons = 15"
   ]
  },
  {
   "cell_type": "code",
   "execution_count": 275,
   "id": "890966c1",
   "metadata": {},
   "outputs": [
    {
     "data": {
      "image/png": "[encoded data removed]",
      "text/plain": [
       "<Figure size 432x288 with 1 Axes>"
      ]
     },
     "metadata": {
      "needs_background": "light"
     },
     "output_type": "display_data"
    },
    {
     "name": "stdout",
     "output_type": "stream",
     "text": [
      "\n",
      "\u001b[1mReview Classification Accuracy on Test Data =  90.00  %\u001b[0m\n"
     ]
    }
   ],
   "source": [
    "objB = DNN_1Layer(K, 10, 2, 0.015)\n",
    "objB.fit(epochs)\n",
    "objB.plotLossCurve(epochs)\n",
    "objB.predict()"
   ]
  },
  {
   "cell_type": "markdown",
   "id": "c0bdba73",
   "metadata": {},
   "source": [
    "The classification accuracy increased from 80% to 90% when no of neurons increased from 10 to 15."
   ]
  }
 ],
 "metadata": {
  "kernelspec": {
   "display_name": "Python 3 (ipykernel)",
   "language": "python",
   "name": "python3"
  },
  "language_info": {
   "codemirror_mode": {
    "name": "ipython",
    "version": 3
   },
   "file_extension": ".py",
   "mimetype": "text/x-python",
   "name": "python",
   "nbconvert_exporter": "python",
   "pygments_lexer": "ipython3",
   "version": "3.10.5"
  }
 },
 "nbformat": 4,
 "nbformat_minor": 5
}
